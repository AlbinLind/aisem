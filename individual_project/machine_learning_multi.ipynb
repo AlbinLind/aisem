{
 "cells": [
  {
   "cell_type": "code",
   "execution_count": 3,
   "metadata": {},
   "outputs": [],
   "source": [
    "from enum import Enum\n",
    "\n",
    "import pandas as pd\n",
    "from sklearn.linear_model import RidgeClassifier\n",
    "from sklearn.pipeline import make_pipeline\n",
    "from sklearn.feature_extraction.text import CountVectorizer, TfidfVectorizer\n",
    "from sklearn.metrics import classification_report\n",
    "from sklearn.model_selection import GridSearchCV, PredefinedSplit\n",
    "\n",
    "\n",
    "class OutputEnum(Enum):\n",
    "    MISLEADING_OTHER = \"misleadingOther\"\n",
    "    MISLEADING_FACTUAL_ERROR = \"misleadingFactualError\"\n",
    "    MISLEADING_MANIPULATED_MEDIA = \"misleadingManipulatedMedia\"\n",
    "    MISLEADING_OUTDATED_INFORMATION = \"misleadingOutdatedInformation\"\n",
    "    MISLEADING_MISSING_IMPORTANT_CONTEXT = \"misleadingMissingImportantContext\"\n",
    "    MISLEADING_UNVERIFIED_CLAIM_AS_FACT = \"misleadingUnverifiedClaimAsFact\"\n",
    "    MISLEADING_SATIRE = \"misleadingSatire\"\n",
    "    TRUSTWORTHY_SOURCES = \"trustworthySources\"\n",
    "    NOT_MISLEADING_FACTUALLY_CORRECT = \"notMisleadingFactuallyCorrect\"\n",
    "    NOT_MISLEADING_OUTDATED_BUT_NOT_WHEN_WRITTEN = (\n",
    "        \"notMisleadingOutdatedButNotWhenWritten\"\n",
    "    )\n",
    "    NOT_MISLEADING_CLEARLY_SATIRE = \"notMisleadingClearlySatire\"\n",
    "    NOT_MISLEADING_PERSONAL_OPINION = \"notMisleadingPersonalOpinion\"\n",
    "\n",
    "\n",
    "# Load the train split\n",
    "df_train = pd.read_csv(\"train.tsv\", sep=\"\\t\").sample(500_000, random_state=42)\n",
    "\n",
    "# Load the test split\n",
    "df_test = pd.read_csv(\"test.tsv\", sep=\"\\t\").sample(75_00, random_state=42)\n",
    "\n",
    "ps = PredefinedSplit([-1] * len(df_train) + [0] * len(df_test))\n",
    "df_train_test = pd.concat([df_train, df_test])\n",
    "\n",
    "df_val = pd.read_csv(\"validation.tsv\", sep=\"\\t\")\n",
    "\n",
    "bow_pipeline = make_pipeline(\n",
    "    CountVectorizer(lowercase=True, stop_words=\"english\", token_pattern=r\"[a-z]{4,}\"),\n",
    "    RidgeClassifier(),\n",
    ")\n",
    "tfidf_pipeline = make_pipeline(\n",
    "    TfidfVectorizer(lowercase=True, stop_words=\"english\", token_pattern=r\"[a-z]{4,}\"),\n",
    "    RidgeClassifier(),\n",
    ")"
   ]
  },
  {
   "cell_type": "code",
   "execution_count": 4,
   "metadata": {},
   "outputs": [],
   "source": [
    "bow_grid = {\n",
    "    \"countvectorizer__ngram_range\": [(1, 1), (1, 2)],  # Unigrams or bigrams\n",
    "    \"countvectorizer__max_df\": [0.8, 0.9, 0.99],  # Ignore terms that appear in more than X% of documents\n",
    "    \"countvectorizer__min_df\": [1, 2, 5],        # Ignore terms that appear in fewer than X documents\n",
    "    \"ridgeclassifier__alpha\": [0.1, 1.0, 10.0],\n",
    "}\n",
    "\n",
    "tfidf_grid = {\n",
    "    \"tfidfvectorizer__ngram_range\": [(1, 1), (1, 2)],\n",
    "    \"tfidfvectorizer__max_df\": [0.8, 0.9, 0.99],  # Ignore terms that appear in more than X% of documents\n",
    "    \"tfidfvectorizer__min_df\": [1, 2, 5],\n",
    "    \"ridgeclassifier__alpha\": [0.1, 1.0, 10.0],\n",
    "}\n"
   ]
  },
  {
   "cell_type": "code",
   "execution_count": null,
   "metadata": {},
   "outputs": [
    {
     "name": "stdout",
     "output_type": "stream",
     "text": [
      "Fitting 1 folds for each of 54 candidates, totalling 54 fits\n"
     ]
    },
    {
     "name": "stdout",
     "output_type": "stream",
     "text": [
      "[CV 1/1] END countvectorizer__max_df=0.8, countvectorizer__min_df=1, countvectorizer__ngram_range=(1, 1), ridgeclassifier__alpha=10.0;, score=0.179 total time=   1.2s\n",
      "[CV 1/1] END countvectorizer__max_df=0.8, countvectorizer__min_df=2, countvectorizer__ngram_range=(1, 1), ridgeclassifier__alpha=10.0;, score=0.180 total time=   1.2s\n",
      "[CV 1/1] END countvectorizer__max_df=0.8, countvectorizer__min_df=2, countvectorizer__ngram_range=(1, 1), ridgeclassifier__alpha=1.0;, score=0.139 total time=   2.5s\n",
      "[CV 1/1] END countvectorizer__max_df=0.8, countvectorizer__min_df=1, countvectorizer__ngram_range=(1, 1), ridgeclassifier__alpha=1.0;, score=0.151 total time=   3.2s\n",
      "[CV 1/1] END countvectorizer__max_df=0.8, countvectorizer__min_df=1, countvectorizer__ngram_range=(1, 2), ridgeclassifier__alpha=10.0;, score=0.187 total time=   4.0s\n",
      "[CV 1/1] END countvectorizer__max_df=0.8, countvectorizer__min_df=2, countvectorizer__ngram_range=(1, 2), ridgeclassifier__alpha=10.0;, score=0.190 total time=   1.9s\n",
      "[CV 1/1] END countvectorizer__max_df=0.8, countvectorizer__min_df=5, countvectorizer__ngram_range=(1, 1), ridgeclassifier__alpha=1.0;, score=0.149 total time=   1.6s\n",
      "[CV 1/1] END countvectorizer__max_df=0.8, countvectorizer__min_df=2, countvectorizer__ngram_range=(1, 2), ridgeclassifier__alpha=1.0;, score=0.154 total time=   4.8s\n",
      "[CV 1/1] END countvectorizer__max_df=0.8, countvectorizer__min_df=5, countvectorizer__ngram_range=(1, 1), ridgeclassifier__alpha=10.0;, score=0.183 total time=   0.8s\n",
      "[CV 1/1] END countvectorizer__max_df=0.8, countvectorizer__min_df=5, countvectorizer__ngram_range=(1, 1), ridgeclassifier__alpha=0.1;, score=0.117 total time=   3.6s\n",
      "[CV 1/1] END countvectorizer__max_df=0.8, countvectorizer__min_df=2, countvectorizer__ngram_range=(1, 1), ridgeclassifier__alpha=0.1;, score=0.096 total time=   8.1s\n",
      "[CV 1/1] END countvectorizer__max_df=0.8, countvectorizer__min_df=1, countvectorizer__ngram_range=(1, 2), ridgeclassifier__alpha=1.0;, score=0.170 total time=   9.1s\n",
      "[CV 1/1] END countvectorizer__max_df=0.8, countvectorizer__min_df=1, countvectorizer__ngram_range=(1, 1), ridgeclassifier__alpha=0.1;, score=0.116 total time=   9.4s\n",
      "[CV 1/1] END countvectorizer__max_df=0.8, countvectorizer__min_df=5, countvectorizer__ngram_range=(1, 2), ridgeclassifier__alpha=10.0;, score=0.173 total time=   1.5s\n",
      "[CV 1/1] END countvectorizer__max_df=0.8, countvectorizer__min_df=5, countvectorizer__ngram_range=(1, 2), ridgeclassifier__alpha=1.0;, score=0.150 total time=   2.8s\n",
      "[CV 1/1] END countvectorizer__max_df=0.9, countvectorizer__min_df=1, countvectorizer__ngram_range=(1, 1), ridgeclassifier__alpha=10.0;, score=0.179 total time=   1.8s\n",
      "[CV 1/1] END countvectorizer__max_df=0.9, countvectorizer__min_df=1, countvectorizer__ngram_range=(1, 1), ridgeclassifier__alpha=1.0;, score=0.151 total time=   3.4s\n",
      "[CV 1/1] END countvectorizer__max_df=0.8, countvectorizer__min_df=5, countvectorizer__ngram_range=(1, 2), ridgeclassifier__alpha=0.1;, score=0.111 total time=   5.4s\n",
      "[CV 1/1] END countvectorizer__max_df=0.8, countvectorizer__min_df=2, countvectorizer__ngram_range=(1, 2), ridgeclassifier__alpha=0.1;, score=0.129 total time=  11.0s\n",
      "[CV 1/1] END countvectorizer__max_df=0.9, countvectorizer__min_df=2, countvectorizer__ngram_range=(1, 1), ridgeclassifier__alpha=10.0;, score=0.180 total time=   1.4s\n",
      "[CV 1/1] END countvectorizer__max_df=0.9, countvectorizer__min_df=1, countvectorizer__ngram_range=(1, 2), ridgeclassifier__alpha=10.0;, score=0.187 total time=   4.6s\n",
      "[CV 1/1] END countvectorizer__max_df=0.9, countvectorizer__min_df=2, countvectorizer__ngram_range=(1, 1), ridgeclassifier__alpha=1.0;, score=0.139 total time=   3.0s\n",
      "[CV 1/1] END countvectorizer__max_df=0.9, countvectorizer__min_df=2, countvectorizer__ngram_range=(1, 2), ridgeclassifier__alpha=10.0;, score=0.190 total time=   2.3s\n",
      "[CV 1/1] END countvectorizer__max_df=0.9, countvectorizer__min_df=1, countvectorizer__ngram_range=(1, 1), ridgeclassifier__alpha=0.1;, score=0.116 total time=  10.4s\n",
      "[CV 1/1] END countvectorizer__max_df=0.9, countvectorizer__min_df=1, countvectorizer__ngram_range=(1, 2), ridgeclassifier__alpha=1.0;, score=0.170 total time=   9.2s\n",
      "[CV 1/1] END countvectorizer__max_df=0.9, countvectorizer__min_df=5, countvectorizer__ngram_range=(1, 1), ridgeclassifier__alpha=1.0;, score=0.149 total time=   1.7s\n",
      "[CV 1/1] END countvectorizer__max_df=0.9, countvectorizer__min_df=5, countvectorizer__ngram_range=(1, 1), ridgeclassifier__alpha=10.0;, score=0.183 total time=   0.8s\n",
      "[CV 1/1] END countvectorizer__max_df=0.9, countvectorizer__min_df=2, countvectorizer__ngram_range=(1, 2), ridgeclassifier__alpha=1.0;, score=0.154 total time=   5.2s\n",
      "[CV 1/1] END countvectorizer__max_df=0.9, countvectorizer__min_df=2, countvectorizer__ngram_range=(1, 1), ridgeclassifier__alpha=0.1;, score=0.096 total time=   8.7s\n",
      "[CV 1/1] END countvectorizer__max_df=0.9, countvectorizer__min_df=5, countvectorizer__ngram_range=(1, 1), ridgeclassifier__alpha=0.1;, score=0.117 total time=   3.7s\n",
      "[CV 1/1] END countvectorizer__max_df=0.9, countvectorizer__min_df=5, countvectorizer__ngram_range=(1, 2), ridgeclassifier__alpha=10.0;, score=0.173 total time=   1.5s\n",
      "[CV 1/1] END countvectorizer__max_df=0.8, countvectorizer__min_df=1, countvectorizer__ngram_range=(1, 2), ridgeclassifier__alpha=0.1;, score=0.163 total time=  23.5s\n",
      "[CV 1/1] END countvectorizer__max_df=0.9, countvectorizer__min_df=5, countvectorizer__ngram_range=(1, 2), ridgeclassifier__alpha=1.0;, score=0.150 total time=   3.0s\n",
      "[CV 1/1] END countvectorizer__max_df=1.0, countvectorizer__min_df=1, countvectorizer__ngram_range=(1, 1), ridgeclassifier__alpha=10.0;, score=0.179 total time=   1.4s\n",
      "[CV 1/1] END countvectorizer__max_df=1.0, countvectorizer__min_df=1, countvectorizer__ngram_range=(1, 1), ridgeclassifier__alpha=1.0;, score=0.151 total time=   3.5s\n",
      "[CV 1/1] END countvectorizer__max_df=0.9, countvectorizer__min_df=5, countvectorizer__ngram_range=(1, 2), ridgeclassifier__alpha=0.1;, score=0.111 total time=   5.9s\n",
      "[CV 1/1] END countvectorizer__max_df=0.9, countvectorizer__min_df=2, countvectorizer__ngram_range=(1, 2), ridgeclassifier__alpha=0.1;, score=0.129 total time=  11.9s\n",
      "[CV 1/1] END countvectorizer__max_df=1.0, countvectorizer__min_df=2, countvectorizer__ngram_range=(1, 1), ridgeclassifier__alpha=10.0;, score=0.180 total time=   1.5s\n",
      "[CV 1/1] END countvectorizer__max_df=1.0, countvectorizer__min_df=1, countvectorizer__ngram_range=(1, 2), ridgeclassifier__alpha=10.0;, score=0.187 total time=   4.7s\n",
      "[CV 1/1] END countvectorizer__max_df=1.0, countvectorizer__min_df=2, countvectorizer__ngram_range=(1, 1), ridgeclassifier__alpha=1.0;, score=0.139 total time=   3.4s\n",
      "[CV 1/1] END countvectorizer__max_df=1.0, countvectorizer__min_df=2, countvectorizer__ngram_range=(1, 2), ridgeclassifier__alpha=10.0;, score=0.190 total time=   2.5s\n",
      "[CV 1/1] END countvectorizer__max_df=1.0, countvectorizer__min_df=1, countvectorizer__ngram_range=(1, 1), ridgeclassifier__alpha=0.1;, score=0.116 total time=  10.8s\n",
      "[CV 1/1] END countvectorizer__max_df=1.0, countvectorizer__min_df=2, countvectorizer__ngram_range=(1, 2), ridgeclassifier__alpha=1.0;, score=0.154 total time=   4.6s\n",
      "[CV 1/1] END countvectorizer__max_df=1.0, countvectorizer__min_df=5, countvectorizer__ngram_range=(1, 1), ridgeclassifier__alpha=10.0;, score=0.183 total time=   0.9s\n",
      "[CV 1/1] END countvectorizer__max_df=1.0, countvectorizer__min_df=2, countvectorizer__ngram_range=(1, 1), ridgeclassifier__alpha=0.1;, score=0.096 total time=   9.0s\n",
      "[CV 1/1] END countvectorizer__max_df=1.0, countvectorizer__min_df=5, countvectorizer__ngram_range=(1, 1), ridgeclassifier__alpha=1.0;, score=0.149 total time=   2.3s\n",
      "[CV 1/1] END countvectorizer__max_df=0.9, countvectorizer__min_df=1, countvectorizer__ngram_range=(1, 2), ridgeclassifier__alpha=0.1;, score=0.163 total time=  25.2s\n",
      "[CV 1/1] END countvectorizer__max_df=1.0, countvectorizer__min_df=1, countvectorizer__ngram_range=(1, 2), ridgeclassifier__alpha=1.0;, score=0.170 total time=  11.0s\n",
      "[CV 1/1] END countvectorizer__max_df=1.0, countvectorizer__min_df=5, countvectorizer__ngram_range=(1, 1), ridgeclassifier__alpha=0.1;, score=0.117 total time=   3.4s\n",
      "[CV 1/1] END countvectorizer__max_df=1.0, countvectorizer__min_df=5, countvectorizer__ngram_range=(1, 2), ridgeclassifier__alpha=10.0;, score=0.173 total time=   1.2s\n",
      "[CV 1/1] END countvectorizer__max_df=1.0, countvectorizer__min_df=5, countvectorizer__ngram_range=(1, 2), ridgeclassifier__alpha=1.0;, score=0.150 total time=   2.1s\n",
      "[CV 1/1] END countvectorizer__max_df=1.0, countvectorizer__min_df=2, countvectorizer__ngram_range=(1, 2), ridgeclassifier__alpha=0.1;, score=0.129 total time=   9.2s\n",
      "[CV 1/1] END countvectorizer__max_df=1.0, countvectorizer__min_df=5, countvectorizer__ngram_range=(1, 2), ridgeclassifier__alpha=0.1;, score=0.111 total time=   3.5s\n",
      "[CV 1/1] END countvectorizer__max_df=1.0, countvectorizer__min_df=1, countvectorizer__ngram_range=(1, 2), ridgeclassifier__alpha=0.1;, score=0.163 total time=  15.8s\n",
      "{'countvectorizer__max_df': 0.8, 'countvectorizer__min_df': 2, 'countvectorizer__ngram_range': (1, 2), 'ridgeclassifier__alpha': 10.0}\n",
      "              precision    recall  f1-score   support\n",
      "\n",
      "           0       0.68      0.27      0.39     15091\n",
      "           1       0.59      0.50      0.54     61188\n",
      "           2       0.69      0.27      0.39     10201\n",
      "           3       0.33      0.09      0.14     19318\n",
      "           4       0.66      0.60      0.63     71863\n",
      "           5       0.44      0.24      0.31     37696\n",
      "           6       0.30      0.02      0.05      7171\n",
      "           7       0.92      0.95      0.94    129465\n",
      "           8       0.52      0.17      0.26     19576\n",
      "           9       0.00      0.00      0.00       882\n",
      "          10       0.82      0.37      0.51      6440\n",
      "          11       0.73      0.41      0.52     13742\n",
      "\n",
      "   micro avg       0.74      0.58      0.65    392633\n",
      "   macro avg       0.56      0.32      0.39    392633\n",
      "weighted avg       0.69      0.58      0.61    392633\n",
      " samples avg       0.72      0.57      0.60    392633\n",
      "\n"
     ]
    },
    {
     "name": "stderr",
     "output_type": "stream",
     "text": [
      "/home/albin/Documents/skola/aisem/individual_project/.venv/lib/python3.12/site-packages/sklearn/metrics/_classification.py:1565: UndefinedMetricWarning: Precision is ill-defined and being set to 0.0 in labels with no predicted samples. Use `zero_division` parameter to control this behavior.\n",
      "  _warn_prf(average, modifier, f\"{metric.capitalize()} is\", len(result))\n",
      "/home/albin/Documents/skola/aisem/individual_project/.venv/lib/python3.12/site-packages/sklearn/metrics/_classification.py:1565: UndefinedMetricWarning: Precision is ill-defined and being set to 0.0 in samples with no predicted labels. Use `zero_division` parameter to control this behavior.\n",
      "  _warn_prf(average, modifier, f\"{metric.capitalize()} is\", len(result))\n",
      "/home/albin/Documents/skola/aisem/individual_project/.venv/lib/python3.12/site-packages/sklearn/metrics/_classification.py:1565: UndefinedMetricWarning: Recall is ill-defined and being set to 0.0 in samples with no true labels. Use `zero_division` parameter to control this behavior.\n",
      "  _warn_prf(average, modifier, f\"{metric.capitalize()} is\", len(result))\n",
      "/home/albin/Documents/skola/aisem/individual_project/.venv/lib/python3.12/site-packages/sklearn/metrics/_classification.py:1565: UndefinedMetricWarning: F-score is ill-defined and being set to 0.0 in samples with no true nor predicted labels. Use `zero_division` parameter to control this behavior.\n",
      "  _warn_prf(average, modifier, f\"{metric.capitalize()} is\", len(result))\n"
     ]
    }
   ],
   "source": [
    "bow_search = GridSearchCV(bow_pipeline, bow_grid, n_jobs=-1, verbose=2, refit=True, cv=ps)\n",
    "bow_search.fit(df_train_test[\"summary\"], df_train_test[[o.value for o in OutputEnum]])\n",
    "print(bow_search.best_params_)\n",
    "print(classification_report(df_val[[o.value for o in OutputEnum]], bow_search.predict(df_val[\"summary\"])))"
   ]
  },
  {
   "cell_type": "code",
   "execution_count": 5,
   "metadata": {},
   "outputs": [
    {
     "name": "stdout",
     "output_type": "stream",
     "text": [
      "Fitting 1 folds for each of 54 candidates, totalling 54 fits\n"
     ]
    },
    {
     "ename": "KeyboardInterrupt",
     "evalue": "",
     "output_type": "error",
     "traceback": [
      "\u001b[0;31m---------------------------------------------------------------------------\u001b[0m",
      "\u001b[0;31mKeyboardInterrupt\u001b[0m                         Traceback (most recent call last)",
      "Cell \u001b[0;32mIn[5], line 2\u001b[0m\n\u001b[1;32m      1\u001b[0m tfidf_search \u001b[38;5;241m=\u001b[39m GridSearchCV(tfidf_pipeline, tfidf_grid, n_jobs\u001b[38;5;241m=\u001b[39m\u001b[38;5;241m-\u001b[39m\u001b[38;5;241m1\u001b[39m, verbose\u001b[38;5;241m=\u001b[39m\u001b[38;5;241m2\u001b[39m, refit\u001b[38;5;241m=\u001b[39m\u001b[38;5;28;01mTrue\u001b[39;00m, cv\u001b[38;5;241m=\u001b[39mps)\n\u001b[0;32m----> 2\u001b[0m \u001b[43mtfidf_search\u001b[49m\u001b[38;5;241;43m.\u001b[39;49m\u001b[43mfit\u001b[49m\u001b[43m(\u001b[49m\u001b[43mdf_train_test\u001b[49m\u001b[43m[\u001b[49m\u001b[38;5;124;43m\"\u001b[39;49m\u001b[38;5;124;43msummary\u001b[39;49m\u001b[38;5;124;43m\"\u001b[39;49m\u001b[43m]\u001b[49m\u001b[43m,\u001b[49m\u001b[43m \u001b[49m\u001b[43mdf_train_test\u001b[49m\u001b[43m[\u001b[49m\u001b[43m[\u001b[49m\u001b[43mo\u001b[49m\u001b[38;5;241;43m.\u001b[39;49m\u001b[43mvalue\u001b[49m\u001b[43m \u001b[49m\u001b[38;5;28;43;01mfor\u001b[39;49;00m\u001b[43m \u001b[49m\u001b[43mo\u001b[49m\u001b[43m \u001b[49m\u001b[38;5;129;43;01min\u001b[39;49;00m\u001b[43m \u001b[49m\u001b[43mOutputEnum\u001b[49m\u001b[43m]\u001b[49m\u001b[43m]\u001b[49m\u001b[43m)\u001b[49m\n\u001b[1;32m      3\u001b[0m \u001b[38;5;28mprint\u001b[39m(tfidf_search\u001b[38;5;241m.\u001b[39mbest_params_)\n\u001b[1;32m      4\u001b[0m \u001b[38;5;28mprint\u001b[39m(classification_report(df_val[[o\u001b[38;5;241m.\u001b[39mvalue \u001b[38;5;28;01mfor\u001b[39;00m o \u001b[38;5;129;01min\u001b[39;00m OutputEnum]], tfidf_search\u001b[38;5;241m.\u001b[39mpredict(df_val[\u001b[38;5;124m\"\u001b[39m\u001b[38;5;124msummary\u001b[39m\u001b[38;5;124m\"\u001b[39m])))\n",
      "File \u001b[0;32m~/Documents/skola/aisem/individual_project/.venv/lib/python3.12/site-packages/sklearn/base.py:1389\u001b[0m, in \u001b[0;36m_fit_context.<locals>.decorator.<locals>.wrapper\u001b[0;34m(estimator, *args, **kwargs)\u001b[0m\n\u001b[1;32m   1382\u001b[0m     estimator\u001b[38;5;241m.\u001b[39m_validate_params()\n\u001b[1;32m   1384\u001b[0m \u001b[38;5;28;01mwith\u001b[39;00m config_context(\n\u001b[1;32m   1385\u001b[0m     skip_parameter_validation\u001b[38;5;241m=\u001b[39m(\n\u001b[1;32m   1386\u001b[0m         prefer_skip_nested_validation \u001b[38;5;129;01mor\u001b[39;00m global_skip_validation\n\u001b[1;32m   1387\u001b[0m     )\n\u001b[1;32m   1388\u001b[0m ):\n\u001b[0;32m-> 1389\u001b[0m     \u001b[38;5;28;01mreturn\u001b[39;00m \u001b[43mfit_method\u001b[49m\u001b[43m(\u001b[49m\u001b[43mestimator\u001b[49m\u001b[43m,\u001b[49m\u001b[43m \u001b[49m\u001b[38;5;241;43m*\u001b[39;49m\u001b[43margs\u001b[49m\u001b[43m,\u001b[49m\u001b[43m \u001b[49m\u001b[38;5;241;43m*\u001b[39;49m\u001b[38;5;241;43m*\u001b[39;49m\u001b[43mkwargs\u001b[49m\u001b[43m)\u001b[49m\n",
      "File \u001b[0;32m~/Documents/skola/aisem/individual_project/.venv/lib/python3.12/site-packages/sklearn/model_selection/_search.py:1024\u001b[0m, in \u001b[0;36mBaseSearchCV.fit\u001b[0;34m(self, X, y, **params)\u001b[0m\n\u001b[1;32m   1018\u001b[0m     results \u001b[38;5;241m=\u001b[39m \u001b[38;5;28mself\u001b[39m\u001b[38;5;241m.\u001b[39m_format_results(\n\u001b[1;32m   1019\u001b[0m         all_candidate_params, n_splits, all_out, all_more_results\n\u001b[1;32m   1020\u001b[0m     )\n\u001b[1;32m   1022\u001b[0m     \u001b[38;5;28;01mreturn\u001b[39;00m results\n\u001b[0;32m-> 1024\u001b[0m \u001b[38;5;28;43mself\u001b[39;49m\u001b[38;5;241;43m.\u001b[39;49m\u001b[43m_run_search\u001b[49m\u001b[43m(\u001b[49m\u001b[43mevaluate_candidates\u001b[49m\u001b[43m)\u001b[49m\n\u001b[1;32m   1026\u001b[0m \u001b[38;5;66;03m# multimetric is determined here because in the case of a callable\u001b[39;00m\n\u001b[1;32m   1027\u001b[0m \u001b[38;5;66;03m# self.scoring the return type is only known after calling\u001b[39;00m\n\u001b[1;32m   1028\u001b[0m first_test_score \u001b[38;5;241m=\u001b[39m all_out[\u001b[38;5;241m0\u001b[39m][\u001b[38;5;124m\"\u001b[39m\u001b[38;5;124mtest_scores\u001b[39m\u001b[38;5;124m\"\u001b[39m]\n",
      "File \u001b[0;32m~/Documents/skola/aisem/individual_project/.venv/lib/python3.12/site-packages/sklearn/model_selection/_search.py:1571\u001b[0m, in \u001b[0;36mGridSearchCV._run_search\u001b[0;34m(self, evaluate_candidates)\u001b[0m\n\u001b[1;32m   1569\u001b[0m \u001b[38;5;28;01mdef\u001b[39;00m\u001b[38;5;250m \u001b[39m\u001b[38;5;21m_run_search\u001b[39m(\u001b[38;5;28mself\u001b[39m, evaluate_candidates):\n\u001b[1;32m   1570\u001b[0m \u001b[38;5;250m    \u001b[39m\u001b[38;5;124;03m\"\"\"Search all candidates in param_grid\"\"\"\u001b[39;00m\n\u001b[0;32m-> 1571\u001b[0m     \u001b[43mevaluate_candidates\u001b[49m\u001b[43m(\u001b[49m\u001b[43mParameterGrid\u001b[49m\u001b[43m(\u001b[49m\u001b[38;5;28;43mself\u001b[39;49m\u001b[38;5;241;43m.\u001b[39;49m\u001b[43mparam_grid\u001b[49m\u001b[43m)\u001b[49m\u001b[43m)\u001b[49m\n",
      "File \u001b[0;32m~/Documents/skola/aisem/individual_project/.venv/lib/python3.12/site-packages/sklearn/model_selection/_search.py:970\u001b[0m, in \u001b[0;36mBaseSearchCV.fit.<locals>.evaluate_candidates\u001b[0;34m(candidate_params, cv, more_results)\u001b[0m\n\u001b[1;32m    962\u001b[0m \u001b[38;5;28;01mif\u001b[39;00m \u001b[38;5;28mself\u001b[39m\u001b[38;5;241m.\u001b[39mverbose \u001b[38;5;241m>\u001b[39m \u001b[38;5;241m0\u001b[39m:\n\u001b[1;32m    963\u001b[0m     \u001b[38;5;28mprint\u001b[39m(\n\u001b[1;32m    964\u001b[0m         \u001b[38;5;124m\"\u001b[39m\u001b[38;5;124mFitting \u001b[39m\u001b[38;5;132;01m{0}\u001b[39;00m\u001b[38;5;124m folds for each of \u001b[39m\u001b[38;5;132;01m{1}\u001b[39;00m\u001b[38;5;124m candidates,\u001b[39m\u001b[38;5;124m\"\u001b[39m\n\u001b[1;32m    965\u001b[0m         \u001b[38;5;124m\"\u001b[39m\u001b[38;5;124m totalling \u001b[39m\u001b[38;5;132;01m{2}\u001b[39;00m\u001b[38;5;124m fits\u001b[39m\u001b[38;5;124m\"\u001b[39m\u001b[38;5;241m.\u001b[39mformat(\n\u001b[1;32m    966\u001b[0m             n_splits, n_candidates, n_candidates \u001b[38;5;241m*\u001b[39m n_splits\n\u001b[1;32m    967\u001b[0m         )\n\u001b[1;32m    968\u001b[0m     )\n\u001b[0;32m--> 970\u001b[0m out \u001b[38;5;241m=\u001b[39m \u001b[43mparallel\u001b[49m\u001b[43m(\u001b[49m\n\u001b[1;32m    971\u001b[0m \u001b[43m    \u001b[49m\u001b[43mdelayed\u001b[49m\u001b[43m(\u001b[49m\u001b[43m_fit_and_score\u001b[49m\u001b[43m)\u001b[49m\u001b[43m(\u001b[49m\n\u001b[1;32m    972\u001b[0m \u001b[43m        \u001b[49m\u001b[43mclone\u001b[49m\u001b[43m(\u001b[49m\u001b[43mbase_estimator\u001b[49m\u001b[43m)\u001b[49m\u001b[43m,\u001b[49m\n\u001b[1;32m    973\u001b[0m \u001b[43m        \u001b[49m\u001b[43mX\u001b[49m\u001b[43m,\u001b[49m\n\u001b[1;32m    974\u001b[0m \u001b[43m        \u001b[49m\u001b[43my\u001b[49m\u001b[43m,\u001b[49m\n\u001b[1;32m    975\u001b[0m \u001b[43m        \u001b[49m\u001b[43mtrain\u001b[49m\u001b[38;5;241;43m=\u001b[39;49m\u001b[43mtrain\u001b[49m\u001b[43m,\u001b[49m\n\u001b[1;32m    976\u001b[0m \u001b[43m        \u001b[49m\u001b[43mtest\u001b[49m\u001b[38;5;241;43m=\u001b[39;49m\u001b[43mtest\u001b[49m\u001b[43m,\u001b[49m\n\u001b[1;32m    977\u001b[0m \u001b[43m        \u001b[49m\u001b[43mparameters\u001b[49m\u001b[38;5;241;43m=\u001b[39;49m\u001b[43mparameters\u001b[49m\u001b[43m,\u001b[49m\n\u001b[1;32m    978\u001b[0m \u001b[43m        \u001b[49m\u001b[43msplit_progress\u001b[49m\u001b[38;5;241;43m=\u001b[39;49m\u001b[43m(\u001b[49m\u001b[43msplit_idx\u001b[49m\u001b[43m,\u001b[49m\u001b[43m \u001b[49m\u001b[43mn_splits\u001b[49m\u001b[43m)\u001b[49m\u001b[43m,\u001b[49m\n\u001b[1;32m    979\u001b[0m \u001b[43m        \u001b[49m\u001b[43mcandidate_progress\u001b[49m\u001b[38;5;241;43m=\u001b[39;49m\u001b[43m(\u001b[49m\u001b[43mcand_idx\u001b[49m\u001b[43m,\u001b[49m\u001b[43m \u001b[49m\u001b[43mn_candidates\u001b[49m\u001b[43m)\u001b[49m\u001b[43m,\u001b[49m\n\u001b[1;32m    980\u001b[0m \u001b[43m        \u001b[49m\u001b[38;5;241;43m*\u001b[39;49m\u001b[38;5;241;43m*\u001b[39;49m\u001b[43mfit_and_score_kwargs\u001b[49m\u001b[43m,\u001b[49m\n\u001b[1;32m    981\u001b[0m \u001b[43m    \u001b[49m\u001b[43m)\u001b[49m\n\u001b[1;32m    982\u001b[0m \u001b[43m    \u001b[49m\u001b[38;5;28;43;01mfor\u001b[39;49;00m\u001b[43m \u001b[49m\u001b[43m(\u001b[49m\u001b[43mcand_idx\u001b[49m\u001b[43m,\u001b[49m\u001b[43m \u001b[49m\u001b[43mparameters\u001b[49m\u001b[43m)\u001b[49m\u001b[43m,\u001b[49m\u001b[43m \u001b[49m\u001b[43m(\u001b[49m\u001b[43msplit_idx\u001b[49m\u001b[43m,\u001b[49m\u001b[43m \u001b[49m\u001b[43m(\u001b[49m\u001b[43mtrain\u001b[49m\u001b[43m,\u001b[49m\u001b[43m \u001b[49m\u001b[43mtest\u001b[49m\u001b[43m)\u001b[49m\u001b[43m)\u001b[49m\u001b[43m \u001b[49m\u001b[38;5;129;43;01min\u001b[39;49;00m\u001b[43m \u001b[49m\u001b[43mproduct\u001b[49m\u001b[43m(\u001b[49m\n\u001b[1;32m    983\u001b[0m \u001b[43m        \u001b[49m\u001b[38;5;28;43menumerate\u001b[39;49m\u001b[43m(\u001b[49m\u001b[43mcandidate_params\u001b[49m\u001b[43m)\u001b[49m\u001b[43m,\u001b[49m\n\u001b[1;32m    984\u001b[0m \u001b[43m        \u001b[49m\u001b[38;5;28;43menumerate\u001b[39;49m\u001b[43m(\u001b[49m\u001b[43mcv\u001b[49m\u001b[38;5;241;43m.\u001b[39;49m\u001b[43msplit\u001b[49m\u001b[43m(\u001b[49m\u001b[43mX\u001b[49m\u001b[43m,\u001b[49m\u001b[43m \u001b[49m\u001b[43my\u001b[49m\u001b[43m,\u001b[49m\u001b[43m \u001b[49m\u001b[38;5;241;43m*\u001b[39;49m\u001b[38;5;241;43m*\u001b[39;49m\u001b[43mrouted_params\u001b[49m\u001b[38;5;241;43m.\u001b[39;49m\u001b[43msplitter\u001b[49m\u001b[38;5;241;43m.\u001b[39;49m\u001b[43msplit\u001b[49m\u001b[43m)\u001b[49m\u001b[43m)\u001b[49m\u001b[43m,\u001b[49m\n\u001b[1;32m    985\u001b[0m \u001b[43m    \u001b[49m\u001b[43m)\u001b[49m\n\u001b[1;32m    986\u001b[0m \u001b[43m\u001b[49m\u001b[43m)\u001b[49m\n\u001b[1;32m    988\u001b[0m \u001b[38;5;28;01mif\u001b[39;00m \u001b[38;5;28mlen\u001b[39m(out) \u001b[38;5;241m<\u001b[39m \u001b[38;5;241m1\u001b[39m:\n\u001b[1;32m    989\u001b[0m     \u001b[38;5;28;01mraise\u001b[39;00m \u001b[38;5;167;01mValueError\u001b[39;00m(\n\u001b[1;32m    990\u001b[0m         \u001b[38;5;124m\"\u001b[39m\u001b[38;5;124mNo fits were performed. \u001b[39m\u001b[38;5;124m\"\u001b[39m\n\u001b[1;32m    991\u001b[0m         \u001b[38;5;124m\"\u001b[39m\u001b[38;5;124mWas the CV iterator empty? \u001b[39m\u001b[38;5;124m\"\u001b[39m\n\u001b[1;32m    992\u001b[0m         \u001b[38;5;124m\"\u001b[39m\u001b[38;5;124mWere there no candidates?\u001b[39m\u001b[38;5;124m\"\u001b[39m\n\u001b[1;32m    993\u001b[0m     )\n",
      "File \u001b[0;32m~/Documents/skola/aisem/individual_project/.venv/lib/python3.12/site-packages/sklearn/utils/parallel.py:77\u001b[0m, in \u001b[0;36mParallel.__call__\u001b[0;34m(self, iterable)\u001b[0m\n\u001b[1;32m     72\u001b[0m config \u001b[38;5;241m=\u001b[39m get_config()\n\u001b[1;32m     73\u001b[0m iterable_with_config \u001b[38;5;241m=\u001b[39m (\n\u001b[1;32m     74\u001b[0m     (_with_config(delayed_func, config), args, kwargs)\n\u001b[1;32m     75\u001b[0m     \u001b[38;5;28;01mfor\u001b[39;00m delayed_func, args, kwargs \u001b[38;5;129;01min\u001b[39;00m iterable\n\u001b[1;32m     76\u001b[0m )\n\u001b[0;32m---> 77\u001b[0m \u001b[38;5;28;01mreturn\u001b[39;00m \u001b[38;5;28;43msuper\u001b[39;49m\u001b[43m(\u001b[49m\u001b[43m)\u001b[49m\u001b[38;5;241;43m.\u001b[39;49m\u001b[38;5;21;43m__call__\u001b[39;49m\u001b[43m(\u001b[49m\u001b[43miterable_with_config\u001b[49m\u001b[43m)\u001b[49m\n",
      "File \u001b[0;32m~/Documents/skola/aisem/individual_project/.venv/lib/python3.12/site-packages/joblib/parallel.py:2007\u001b[0m, in \u001b[0;36mParallel.__call__\u001b[0;34m(self, iterable)\u001b[0m\n\u001b[1;32m   2001\u001b[0m \u001b[38;5;66;03m# The first item from the output is blank, but it makes the interpreter\u001b[39;00m\n\u001b[1;32m   2002\u001b[0m \u001b[38;5;66;03m# progress until it enters the Try/Except block of the generator and\u001b[39;00m\n\u001b[1;32m   2003\u001b[0m \u001b[38;5;66;03m# reaches the first `yield` statement. This starts the asynchronous\u001b[39;00m\n\u001b[1;32m   2004\u001b[0m \u001b[38;5;66;03m# dispatch of the tasks to the workers.\u001b[39;00m\n\u001b[1;32m   2005\u001b[0m \u001b[38;5;28mnext\u001b[39m(output)\n\u001b[0;32m-> 2007\u001b[0m \u001b[38;5;28;01mreturn\u001b[39;00m output \u001b[38;5;28;01mif\u001b[39;00m \u001b[38;5;28mself\u001b[39m\u001b[38;5;241m.\u001b[39mreturn_generator \u001b[38;5;28;01melse\u001b[39;00m \u001b[38;5;28;43mlist\u001b[39;49m\u001b[43m(\u001b[49m\u001b[43moutput\u001b[49m\u001b[43m)\u001b[49m\n",
      "File \u001b[0;32m~/Documents/skola/aisem/individual_project/.venv/lib/python3.12/site-packages/joblib/parallel.py:1650\u001b[0m, in \u001b[0;36mParallel._get_outputs\u001b[0;34m(self, iterator, pre_dispatch)\u001b[0m\n\u001b[1;32m   1647\u001b[0m     \u001b[38;5;28;01myield\u001b[39;00m\n\u001b[1;32m   1649\u001b[0m     \u001b[38;5;28;01mwith\u001b[39;00m \u001b[38;5;28mself\u001b[39m\u001b[38;5;241m.\u001b[39m_backend\u001b[38;5;241m.\u001b[39mretrieval_context():\n\u001b[0;32m-> 1650\u001b[0m         \u001b[38;5;28;01myield from\u001b[39;00m \u001b[38;5;28mself\u001b[39m\u001b[38;5;241m.\u001b[39m_retrieve()\n\u001b[1;32m   1652\u001b[0m \u001b[38;5;28;01mexcept\u001b[39;00m \u001b[38;5;167;01mGeneratorExit\u001b[39;00m:\n\u001b[1;32m   1653\u001b[0m     \u001b[38;5;66;03m# The generator has been garbage collected before being fully\u001b[39;00m\n\u001b[1;32m   1654\u001b[0m     \u001b[38;5;66;03m# consumed. This aborts the remaining tasks if possible and warn\u001b[39;00m\n\u001b[1;32m   1655\u001b[0m     \u001b[38;5;66;03m# the user if necessary.\u001b[39;00m\n\u001b[1;32m   1656\u001b[0m     \u001b[38;5;28mself\u001b[39m\u001b[38;5;241m.\u001b[39m_exception \u001b[38;5;241m=\u001b[39m \u001b[38;5;28;01mTrue\u001b[39;00m\n",
      "File \u001b[0;32m~/Documents/skola/aisem/individual_project/.venv/lib/python3.12/site-packages/joblib/parallel.py:1762\u001b[0m, in \u001b[0;36mParallel._retrieve\u001b[0;34m(self)\u001b[0m\n\u001b[1;32m   1757\u001b[0m \u001b[38;5;66;03m# If the next job is not ready for retrieval yet, we just wait for\u001b[39;00m\n\u001b[1;32m   1758\u001b[0m \u001b[38;5;66;03m# async callbacks to progress.\u001b[39;00m\n\u001b[1;32m   1759\u001b[0m \u001b[38;5;28;01mif\u001b[39;00m ((\u001b[38;5;28mlen\u001b[39m(\u001b[38;5;28mself\u001b[39m\u001b[38;5;241m.\u001b[39m_jobs) \u001b[38;5;241m==\u001b[39m \u001b[38;5;241m0\u001b[39m) \u001b[38;5;129;01mor\u001b[39;00m\n\u001b[1;32m   1760\u001b[0m     (\u001b[38;5;28mself\u001b[39m\u001b[38;5;241m.\u001b[39m_jobs[\u001b[38;5;241m0\u001b[39m]\u001b[38;5;241m.\u001b[39mget_status(\n\u001b[1;32m   1761\u001b[0m         timeout\u001b[38;5;241m=\u001b[39m\u001b[38;5;28mself\u001b[39m\u001b[38;5;241m.\u001b[39mtimeout) \u001b[38;5;241m==\u001b[39m TASK_PENDING)):\n\u001b[0;32m-> 1762\u001b[0m     \u001b[43mtime\u001b[49m\u001b[38;5;241;43m.\u001b[39;49m\u001b[43msleep\u001b[49m\u001b[43m(\u001b[49m\u001b[38;5;241;43m0.01\u001b[39;49m\u001b[43m)\u001b[49m\n\u001b[1;32m   1763\u001b[0m     \u001b[38;5;28;01mcontinue\u001b[39;00m\n\u001b[1;32m   1765\u001b[0m \u001b[38;5;66;03m# We need to be careful: the job list can be filling up as\u001b[39;00m\n\u001b[1;32m   1766\u001b[0m \u001b[38;5;66;03m# we empty it and Python list are not thread-safe by\u001b[39;00m\n\u001b[1;32m   1767\u001b[0m \u001b[38;5;66;03m# default hence the use of the lock\u001b[39;00m\n",
      "\u001b[0;31mKeyboardInterrupt\u001b[0m: "
     ]
    }
   ],
   "source": [
    "tfidf_search = GridSearchCV(tfidf_pipeline, tfidf_grid, n_jobs=-1, verbose=2, refit=True, cv=ps)\n",
    "tfidf_search.fit(df_train_test[\"summary\"], df_train_test[[o.value for o in OutputEnum]])\n",
    "print(tfidf_search.best_params_)\n",
    "print(classification_report(df_val[[o.value for o in OutputEnum]], tfidf_search.predict(df_val[\"summary\"])))"
   ]
  }
 ],
 "metadata": {
  "kernelspec": {
   "display_name": ".venv",
   "language": "python",
   "name": "python3"
  },
  "language_info": {
   "codemirror_mode": {
    "name": "ipython",
    "version": 3
   },
   "file_extension": ".py",
   "mimetype": "text/x-python",
   "name": "python",
   "nbconvert_exporter": "python",
   "pygments_lexer": "ipython3",
   "version": "3.12.4"
  }
 },
 "nbformat": 4,
 "nbformat_minor": 2
}
