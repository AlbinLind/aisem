{
 "cells": [
  {
   "cell_type": "code",
   "execution_count": 3,
   "metadata": {},
   "outputs": [],
   "source": [
    "from enum import Enum\n",
    "\n",
    "import pandas as pd\n",
    "from sklearn.linear_model import RidgeClassifier\n",
    "from sklearn.pipeline import make_pipeline\n",
    "from sklearn.feature_extraction.text import CountVectorizer, TfidfVectorizer\n",
    "from sklearn.metrics import classification_report\n",
    "from sklearn.model_selection import GridSearchCV, PredefinedSplit\n",
    "\n",
    "\n",
    "class OutputEnum(Enum):\n",
    "    MISLEADING_OTHER = \"misleadingOther\"\n",
    "    MISLEADING_FACTUAL_ERROR = \"misleadingFactualError\"\n",
    "    MISLEADING_MANIPULATED_MEDIA = \"misleadingManipulatedMedia\"\n",
    "    MISLEADING_OUTDATED_INFORMATION = \"misleadingOutdatedInformation\"\n",
    "    MISLEADING_MISSING_IMPORTANT_CONTEXT = \"misleadingMissingImportantContext\"\n",
    "    MISLEADING_UNVERIFIED_CLAIM_AS_FACT = \"misleadingUnverifiedClaimAsFact\"\n",
    "    MISLEADING_SATIRE = \"misleadingSatire\"\n",
    "    TRUSTWORTHY_SOURCES = \"trustworthySources\"\n",
    "    NOT_MISLEADING_FACTUALLY_CORRECT = \"notMisleadingFactuallyCorrect\"\n",
    "    NOT_MISLEADING_OUTDATED_BUT_NOT_WHEN_WRITTEN = (\n",
    "        \"notMisleadingOutdatedButNotWhenWritten\"\n",
    "    )\n",
    "    NOT_MISLEADING_CLEARLY_SATIRE = \"notMisleadingClearlySatire\"\n",
    "    NOT_MISLEADING_PERSONAL_OPINION = \"notMisleadingPersonalOpinion\"\n",
    "\n",
    "\n",
    "# Load the train split\n",
    "df_train = pd.read_csv(\"train.tsv\", sep=\"\\t\").sample(500_000, random_state=42)\n",
    "\n",
    "# Load the test split\n",
    "df_test = pd.read_csv(\"test.tsv\", sep=\"\\t\").sample(75_00, random_state=42)\n",
    "\n",
    "ps = PredefinedSplit([-1] * len(df_train) + [0] * len(df_test))\n",
    "df_train_test = pd.concat([df_train, df_test])\n",
    "\n",
    "df_val = pd.read_csv(\"validation.tsv\", sep=\"\\t\")\n",
    "\n",
    "bow_pipeline = make_pipeline(\n",
    "    CountVectorizer(lowercase=True, stop_words=\"english\", token_pattern=r\"[a-z]{4,}\"),\n",
    "    RidgeClassifier(),\n",
    ")\n",
    "tfidf_pipeline = make_pipeline(\n",
    "    TfidfVectorizer(lowercase=True, stop_words=\"english\", token_pattern=r\"[a-z]{4,}\"),\n",
    "    RidgeClassifier(),\n",
    ")"
   ]
  },
  {
   "cell_type": "code",
   "execution_count": 4,
   "metadata": {},
   "outputs": [],
   "source": [
    "bow_grid = {\n",
    "    \"countvectorizer__ngram_range\": [(1, 1), (1, 2)],  # Unigrams or bigrams\n",
    "    \"countvectorizer__max_df\": [\n",
    "        0.8,\n",
    "        0.9,\n",
    "        0.99,\n",
    "    ],  # Ignore terms that appear in more than X% of documents\n",
    "    \"countvectorizer__min_df\": [\n",
    "        1,\n",
    "        2,\n",
    "        5,\n",
    "    ],  # Ignore terms that appear in fewer than X documents\n",
    "    \"ridgeclassifier__alpha\": [0.1, 1.0, 10.0],\n",
    "}\n",
    "\n",
    "tfidf_grid = {\n",
    "    \"tfidfvectorizer__ngram_range\": [(1, 1), (1, 2)],\n",
    "    \"tfidfvectorizer__max_df\": [\n",
    "        0.8,\n",
    "        0.9,\n",
    "        0.99,\n",
    "    ],  # Ignore terms that appear in more than X% of documents\n",
    "    \"tfidfvectorizer__min_df\": [1, 2, 5],\n",
    "    \"ridgeclassifier__alpha\": [0.1, 1.0, 10.0],\n",
    "}\n"
   ]
  },
  {
   "cell_type": "code",
   "execution_count": null,
   "metadata": {},
   "outputs": [],
   "source": [
    "bow_search = GridSearchCV(\n",
    "    bow_pipeline, bow_grid, n_jobs=-1, verbose=2, refit=True, cv=ps\n",
    ")\n",
    "bow_search.fit(df_train_test[\"summary\"], df_train_test[[o.value for o in OutputEnum]])\n",
    "print(bow_search.best_params_)\n",
    "print(\n",
    "    classification_report(\n",
    "        df_val[[o.value for o in OutputEnum]], bow_search.predict(df_val[\"summary\"])\n",
    "    )\n",
    ")"
   ]
  },
  {
   "cell_type": "code",
   "execution_count": null,
   "metadata": {},
   "outputs": [],
   "source": [
    "tfidf_search = GridSearchCV(\n",
    "    tfidf_pipeline, tfidf_grid, n_jobs=-1, verbose=2, refit=True, cv=ps\n",
    ")\n",
    "tfidf_search.fit(df_train_test[\"summary\"], df_train_test[[o.value for o in OutputEnum]])\n",
    "print(tfidf_search.best_params_)\n",
    "print(\n",
    "    classification_report(\n",
    "        df_val[[o.value for o in OutputEnum]], tfidf_search.predict(df_val[\"summary\"])\n",
    "    )\n",
    ")"
   ]
  }
 ],
 "metadata": {
  "kernelspec": {
   "display_name": ".venv",
   "language": "python",
   "name": "python3"
  },
  "language_info": {
   "codemirror_mode": {
    "name": "ipython",
    "version": 3
   },
   "file_extension": ".py",
   "mimetype": "text/x-python",
   "name": "python",
   "nbconvert_exporter": "python",
   "pygments_lexer": "ipython3",
   "version": "3.12.4"
  }
 },
 "nbformat": 4,
 "nbformat_minor": 2
}
